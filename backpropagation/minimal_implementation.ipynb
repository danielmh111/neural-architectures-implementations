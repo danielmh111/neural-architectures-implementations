{
 "cells": [
  {
   "cell_type": "markdown",
   "id": "6ba79708",
   "metadata": {},
   "source": [
    "first, the simplest possible case. a \"network\" of one single neuron and one training example."
   ]
  },
  {
   "cell_type": "code",
   "execution_count": 1,
   "id": "e85e90c5",
   "metadata": {},
   "outputs": [],
   "source": [
    "from sympy import Symbol, Function, diff"
   ]
  },
  {
   "cell_type": "code",
   "execution_count": 2,
   "id": "39828f6e",
   "metadata": {},
   "outputs": [],
   "source": [
    "# type: ignore\n",
    "\n",
    "w = Symbol(\"w\") #weights\n",
    "b = Symbol(\"b\") #biases\n",
    "\n",
    "y = Symbol(\"y\") #truth\n",
    "a_prev = Symbol(\"a_prev\") # activation of previous layer. we are going to treat this as static for now\n",
    "\n",
    "sigma = Function(\"sigma\")\n",
    "\n",
    "z = w * a_prev + b  \n",
    "\n",
    "a = sigma(z)\n",
    "\n",
    "C = (a - y)**2"
   ]
  },
  {
   "cell_type": "code",
   "execution_count": 8,
   "id": "51d61aa7",
   "metadata": {},
   "outputs": [
    {
     "data": {
      "text/latex": [
       "$\\displaystyle 2 a_{prev} \\left(- y + \\sigma{\\left(a_{prev} w + b \\right)}\\right) \\left. \\frac{d}{d \\xi_{1}} \\sigma{\\left(\\xi_{1} \\right)} \\right|_{\\substack{ \\xi_{1}=a_{prev} w + b }}$"
      ],
      "text/plain": [
       "2*a_prev*(-y + sigma(a_prev*w + b))*Subs(Derivative(sigma(_xi_1), _xi_1), _xi_1, a_prev*w + b)"
      ]
     },
     "execution_count": 8,
     "metadata": {},
     "output_type": "execute_result"
    }
   ],
   "source": [
    "dC_dw = diff(C, w)\n",
    "dC_db = diff(C, b)\n",
    "\n",
    "dC_dw\n"
   ]
  },
  {
   "cell_type": "code",
   "execution_count": 9,
   "id": "f3417fd0",
   "metadata": {},
   "outputs": [
    {
     "data": {
      "text/latex": [
       "$\\displaystyle 2 \\left(- y + \\sigma{\\left(a_{prev} w + b \\right)}\\right) \\left. \\frac{d}{d \\xi_{1}} \\sigma{\\left(\\xi_{1} \\right)} \\right|_{\\substack{ \\xi_{1}=a_{prev} w + b }}$"
      ],
      "text/plain": [
       "2*(-y + sigma(a_prev*w + b))*Subs(Derivative(sigma(_xi_1), _xi_1), _xi_1, a_prev*w + b)"
      ]
     },
     "execution_count": 9,
     "metadata": {},
     "output_type": "execute_result"
    }
   ],
   "source": [
    "\n",
    "dC_db"
   ]
  },
  {
   "cell_type": "code",
   "execution_count": 11,
   "id": "13c60711",
   "metadata": {},
   "outputs": [],
   "source": [
    "gradient = [dC_dw, dC_db]"
   ]
  },
  {
   "cell_type": "code",
   "execution_count": 5,
   "id": "4ecac42e",
   "metadata": {},
   "outputs": [],
   "source": [
    "# some data\n",
    "\n",
    "X = [1.0, 2.0, 3.0]\n",
    "y = [0.5, 1.0, 1.5]"
   ]
  },
  {
   "cell_type": "markdown",
   "id": "4b99a652",
   "metadata": {},
   "source": [
    "since this network is only one layer deep, the previous activation is just the input data"
   ]
  },
  {
   "cell_type": "code",
   "execution_count": null,
   "id": "1b295b08",
   "metadata": {},
   "outputs": [],
   "source": []
  },
  {
   "cell_type": "code",
   "execution_count": null,
   "id": "e529aa18",
   "metadata": {},
   "outputs": [],
   "source": []
  }
 ],
 "metadata": {
  "kernelspec": {
   "display_name": ".venv",
   "language": "python",
   "name": "python3"
  },
  "language_info": {
   "codemirror_mode": {
    "name": "ipython",
    "version": 3
   },
   "file_extension": ".py",
   "mimetype": "text/x-python",
   "name": "python",
   "nbconvert_exporter": "python",
   "pygments_lexer": "ipython3",
   "version": "3.13.2"
  }
 },
 "nbformat": 4,
 "nbformat_minor": 5
}
