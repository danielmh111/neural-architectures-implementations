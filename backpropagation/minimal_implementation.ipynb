{
 "cells": [
  {
   "cell_type": "markdown",
   "id": "6ba79708",
   "metadata": {},
   "source": [
    "first, the simplest possible case. a \"network\" of one single neuron and one training example."
   ]
  },
  {
   "cell_type": "code",
   "execution_count": 36,
   "id": "e85e90c5",
   "metadata": {},
   "outputs": [],
   "source": [
    "from sympy import Symbol, Function, diff"
   ]
  },
  {
   "cell_type": "code",
   "execution_count": 37,
   "id": "39828f6e",
   "metadata": {},
   "outputs": [],
   "source": [
    "# type: ignore\n",
    "\n",
    "w = Symbol(\"w\") #weights\n",
    "b = Symbol(\"b\") #biases\n",
    "\n",
    "y = Symbol(\"y\") #truth\n",
    "a_prev = Symbol(\"a_prev\") # activation of previous layer. we are going to treat this as static for now\n",
    "\n",
    "sigma = Function(\"sigma\")\n",
    "\n",
    "z = w * a_prev + b  \n",
    "\n",
    "a = sigma(z)\n",
    "\n",
    "C = (a - y)**2"
   ]
  },
  {
   "cell_type": "code",
   "execution_count": 38,
   "id": "51d61aa7",
   "metadata": {},
   "outputs": [
    {
     "data": {
      "text/latex": [
       "$\\displaystyle 2 a_{prev} \\left(- y + \\sigma{\\left(a_{prev} w + b \\right)}\\right) \\left. \\frac{d}{d \\xi_{1}} \\sigma{\\left(\\xi_{1} \\right)} \\right|_{\\substack{ \\xi_{1}=a_{prev} w + b }}$"
      ],
      "text/plain": [
       "2*a_prev*(-y + sigma(a_prev*w + b))*Subs(Derivative(sigma(_xi_1), _xi_1), _xi_1, a_prev*w + b)"
      ]
     },
     "execution_count": 38,
     "metadata": {},
     "output_type": "execute_result"
    }
   ],
   "source": [
    "dC_dw = diff(C, w)\n",
    "dC_db = diff(C, b)\n",
    "\n",
    "dC_dw\n"
   ]
  },
  {
   "cell_type": "code",
   "execution_count": 39,
   "id": "f3417fd0",
   "metadata": {},
   "outputs": [
    {
     "data": {
      "text/latex": [
       "$\\displaystyle 2 \\left(- y + \\sigma{\\left(a_{prev} w + b \\right)}\\right) \\left. \\frac{d}{d \\xi_{1}} \\sigma{\\left(\\xi_{1} \\right)} \\right|_{\\substack{ \\xi_{1}=a_{prev} w + b }}$"
      ],
      "text/plain": [
       "2*(-y + sigma(a_prev*w + b))*Subs(Derivative(sigma(_xi_1), _xi_1), _xi_1, a_prev*w + b)"
      ]
     },
     "execution_count": 39,
     "metadata": {},
     "output_type": "execute_result"
    }
   ],
   "source": [
    "\n",
    "dC_db"
   ]
  },
  {
   "cell_type": "code",
   "execution_count": 40,
   "id": "13c60711",
   "metadata": {},
   "outputs": [],
   "source": [
    "gradient = [dC_dw, dC_db]"
   ]
  },
  {
   "cell_type": "code",
   "execution_count": 41,
   "id": "4ecac42e",
   "metadata": {},
   "outputs": [],
   "source": [
    "# some data\n",
    "\n",
    "X = [1.0, 2.0, 3.0]\n",
    "y = [0.5, 1.0, 1.5]"
   ]
  },
  {
   "cell_type": "markdown",
   "id": "4b99a652",
   "metadata": {},
   "source": [
    "since this network is only one layer deep, the previous activation is just the input data"
   ]
  },
  {
   "cell_type": "code",
   "execution_count": 42,
   "id": "1b295b08",
   "metadata": {},
   "outputs": [
    {
     "data": {
      "text/latex": [
       "$\\displaystyle 2 \\left(\\sigma{\\left(b + 1.0 w \\right)} - 0.5\\right) \\left. \\frac{d}{d \\xi_{1}} \\sigma{\\left(\\xi_{1} \\right)} \\right|_{\\substack{ \\xi_{1}=b + 1.0 w }}$"
      ],
      "text/plain": [
       "2*(sigma(b + 1.0*w) - 0.5)*Subs(Derivative(sigma(_xi_1), _xi_1), _xi_1, b + 1.0*w)"
      ]
     },
     "execution_count": 42,
     "metadata": {},
     "output_type": "execute_result"
    }
   ],
   "source": [
    "dC_db.subs({\"a_prev\": X[0], \"y\": y[0]})"
   ]
  },
  {
   "cell_type": "markdown",
   "id": "6af20f92",
   "metadata": {},
   "source": [
    "for the activation function, we will use a sigmoid"
   ]
  },
  {
   "cell_type": "code",
   "execution_count": 43,
   "id": "e529aa18",
   "metadata": {},
   "outputs": [
    {
     "data": {
      "text/latex": [
       "$\\displaystyle \\frac{1}{1 + e^{- x}}$"
      ],
      "text/plain": [
       "1/(1 + e**(-x))"
      ]
     },
     "execution_count": 43,
     "metadata": {},
     "output_type": "execute_result"
    }
   ],
   "source": [
    "from sympy.abc import e, x\n",
    "\n",
    "sigmoid = 1 / (1 + e**-x)\n",
    "sigmoid\n"
   ]
  },
  {
   "cell_type": "code",
   "execution_count": 44,
   "id": "a9a2317e",
   "metadata": {},
   "outputs": [
    {
     "data": {
      "text/latex": [
       "$\\displaystyle \\frac{e^{- x} \\log{\\left(e \\right)}}{\\left(1 + e^{- x}\\right)^{2}}$"
      ],
      "text/plain": [
       "log(e)/(e**x*(1 + e**(-x))**2)"
      ]
     },
     "execution_count": 44,
     "metadata": {},
     "output_type": "execute_result"
    }
   ],
   "source": [
    "from sympy import diff\n",
    "sigmoid_prime = diff(sigmoid, 'x')\n",
    "sigmoid_prime"
   ]
  },
  {
   "cell_type": "code",
   "execution_count": 45,
   "id": "382cf6e7",
   "metadata": {},
   "outputs": [
    {
     "data": {
      "text/latex": [
       "$\\displaystyle a_{prev} w + b$"
      ],
      "text/plain": [
       "a_prev*w + b"
      ]
     },
     "execution_count": 45,
     "metadata": {},
     "output_type": "execute_result"
    }
   ],
   "source": [
    "z"
   ]
  },
  {
   "cell_type": "code",
   "execution_count": 46,
   "id": "833f9613",
   "metadata": {},
   "outputs": [
    {
     "data": {
      "text/latex": [
       "$\\displaystyle \\sigma{\\left(a_{prev} w + b \\right)}$"
      ],
      "text/plain": [
       "sigma(a_prev*w + b)"
      ]
     },
     "execution_count": 46,
     "metadata": {},
     "output_type": "execute_result"
    }
   ],
   "source": [
    "a"
   ]
  },
  {
   "cell_type": "code",
   "execution_count": 47,
   "id": "bff65048",
   "metadata": {},
   "outputs": [
    {
     "data": {
      "text/latex": [
       "$\\displaystyle \\frac{1}{e^{- a_{prev} w - b} + 1}$"
      ],
      "text/plain": [
       "1/(e**(-a_prev*w - b) + 1)"
      ]
     },
     "execution_count": 47,
     "metadata": {},
     "output_type": "execute_result"
    }
   ],
   "source": [
    "act = sigmoid.subs({x: z})\n",
    "act"
   ]
  },
  {
   "cell_type": "code",
   "execution_count": 49,
   "id": "ca02959b",
   "metadata": {},
   "outputs": [
    {
     "data": {
      "text/latex": [
       "$\\displaystyle \\left(- y + \\frac{1}{e^{- a_{prev} w - b} + 1}\\right)^{2}$"
      ],
      "text/plain": [
       "(-y + 1/(e**(-a_prev*w - b) + 1))**2"
      ]
     },
     "execution_count": 49,
     "metadata": {},
     "output_type": "execute_result"
    }
   ],
   "source": [
    "Cost = C.subs({a: act})\n",
    "Cost"
   ]
  },
  {
   "cell_type": "code",
   "execution_count": 51,
   "id": "c620217c",
   "metadata": {},
   "outputs": [
    {
     "data": {
      "text/latex": [
       "$\\displaystyle \\frac{2 a_{prev} e^{- a_{prev} w - b} \\left(- y + \\frac{1}{e^{- a_{prev} w - b} + 1}\\right) \\log{\\left(e \\right)}}{\\left(e^{- a_{prev} w - b} + 1\\right)^{2}}$"
      ],
      "text/plain": [
       "2*a_prev*e**(-a_prev*w - b)*(-y + 1/(e**(-a_prev*w - b) + 1))*log(e)/(e**(-a_prev*w - b) + 1)**2"
      ]
     },
     "metadata": {},
     "output_type": "display_data"
    },
    {
     "data": {
      "text/latex": [
       "$\\displaystyle \\frac{2 e^{- a_{prev} w - b} \\left(- y + \\frac{1}{e^{- a_{prev} w - b} + 1}\\right) \\log{\\left(e \\right)}}{\\left(e^{- a_{prev} w - b} + 1\\right)^{2}}$"
      ],
      "text/plain": [
       "2*e**(-a_prev*w - b)*(-y + 1/(e**(-a_prev*w - b) + 1))*log(e)/(e**(-a_prev*w - b) + 1)**2"
      ]
     },
     "metadata": {},
     "output_type": "display_data"
    }
   ],
   "source": [
    "dCost_dw = diff(Cost, w)\n",
    "dCost_db = diff(Cost, b)\n",
    "\n",
    "display(dCost_dw)\n",
    "display(dCost_db)"
   ]
  },
  {
   "cell_type": "code",
   "execution_count": 61,
   "id": "a470e3d2",
   "metadata": {},
   "outputs": [
    {
     "data": {
      "text/plain": [
       "(-0.15956526832982923, 0.0313482911302099)"
      ]
     },
     "execution_count": 61,
     "metadata": {},
     "output_type": "execute_result"
    }
   ],
   "source": [
    "from numpy import random\n",
    "\n",
    "initial_weight = random.normal(0, 0.1)\n",
    "initial_bias = random.normal(0, 0.1)\n",
    "initial_weight, initial_bias"
   ]
  },
  {
   "cell_type": "code",
   "execution_count": null,
   "id": "bd9e19c3",
   "metadata": {},
   "outputs": [],
   "source": []
  }
 ],
 "metadata": {
  "kernelspec": {
   "display_name": ".venv",
   "language": "python",
   "name": "python3"
  },
  "language_info": {
   "codemirror_mode": {
    "name": "ipython",
    "version": 3
   },
   "file_extension": ".py",
   "mimetype": "text/x-python",
   "name": "python",
   "nbconvert_exporter": "python",
   "pygments_lexer": "ipython3",
   "version": "3.13.2"
  }
 },
 "nbformat": 4,
 "nbformat_minor": 5
}
